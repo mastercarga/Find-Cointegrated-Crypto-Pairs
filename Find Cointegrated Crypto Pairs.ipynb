{
  "nbformat": 4,
  "nbformat_minor": 5,
  "metadata": {
    "kernelspec": {
      "display_name": "Python 3",
      "language": "python",
      "name": "python3"
    },
    "language_info": {
      "codemirror_mode": {
        "name": "ipython",
        "version": 3
      },
      "file_extension": ".py",
      "mimetype": "text/x-python",
      "name": "python",
      "nbconvert_exporter": "python",
      "pygments_lexer": "ipython3",
      "version": "3.8.3"
    },
    "colab": {
      "name": "Find Cointegrated Crypto Pairs.ipynb",
      "provenance": []
    }
  },
  "cells": [
    {
      "cell_type": "markdown",
      "metadata": {
        "id": "18c083f5"
      },
      "source": [
        "This is only done for testing purposes.\n",
        "Beware of:\n",
        "p-value hacking\n",
        "look-ahead bias \n",
        "overfitting"
      ],
      "id": "18c083f5"
    },
    {
      "cell_type": "code",
      "metadata": {
        "id": "53deb5d5"
      },
      "source": [
        "api_key =\"eokdMuFGyjmRzYwZJcLtbVSOvKbYjVgOPxKJlQl1hkuKl9BEQkC0aADBIThtULtJ\"\n",
        "api_secret =\"Yp0wqLVIwBdjAFkifd3Mg3fJOhZJ483Eh0mMGCOm3ToG0Webwv6bFC3behcS8r66\"\n",
        "client = Client(api_key, api_secret)"
      ],
      "id": "53deb5d5",
      "execution_count": 22,
      "outputs": []
    },
    {
      "cell_type": "code",
      "metadata": {
        "id": "c8d0d1d6"
      },
      "source": [
        "# Obtain all the pairs from Binance\n",
        "products = c.get_products()"
      ],
      "id": "c8d0d1d6",
      "execution_count": 23,
      "outputs": []
    },
    {
      "cell_type": "code",
      "metadata": {
        "id": "43b0cbe2"
      },
      "source": [
        "# Obtain all the pairs with the USDT bridge\n",
        "coins = []\n",
        "for i in products['data']:\n",
        "    items = i.items()\n",
        "    \n",
        "    for i in items:\n",
        "        if 's' in i and 'USDT' in i[1]:\n",
        "            coins.append(i[1])\n",
        "            \n",
        "# df = pd.DataFrame(coins, columns=['coin'])\n",
        "# df.head()"
      ],
      "id": "43b0cbe2",
      "execution_count": 24,
      "outputs": []
    },
    {
      "cell_type": "code",
      "metadata": {
        "id": "11fa9ab5"
      },
      "source": [
        "# Obtains data for a specified symbol, interval and limit\n",
        "# Can be modified by adding start and end dates\n",
        "def GetData (symbol, interval, limit):\n",
        "    data = c.get_klines(symbol=symbol, interval=interval, limit=limit)\n",
        "    x = 0\n",
        "    full = {}\n",
        "\n",
        "    for k in data:\n",
        "        #print(k)\n",
        "        j = []\n",
        "        x += 1\n",
        "        for i in k[:5]:\n",
        "            j.append(float(i))\n",
        "        dat = pd.DataFrame(j).T\n",
        "        full[str(x)] = dat\n",
        "\n",
        "    df = pd.concat(full)\n",
        "    df.reset_index(drop=True, inplace=True)\n",
        "    df.columns = ['date','open','high','low','close']\n",
        "    df['date'] = pd.to_datetime(df['date'], unit='ms')\n",
        "    df = df.assign(ticker=symbol)\n",
        "    return(df)"
      ],
      "id": "11fa9ab5",
      "execution_count": 25,
      "outputs": []
    },
    {
      "cell_type": "code",
      "metadata": {
        "id": "13d2b9db"
      },
      "source": [
        "historical = pd.DataFrame()\n",
        "hist = {}\n",
        "\n",
        "for i in coins:\n",
        "    coin_hist = GetData(symbol=i, interval='1d', limit=730)\n",
        "    hist[i] = coin_hist\n",
        "#hist"
      ],
      "id": "13d2b9db",
      "execution_count": 26,
      "outputs": []
    },
    {
      "cell_type": "code",
      "metadata": {
        "id": "2270aca7",
        "outputId": "ac2fd940-5af9-423a-8311-d8e3c63bb40c",
        "colab": {
          "base_uri": "https://localhost:8080/",
          "height": 195
        }
      },
      "source": [
        "data = pd.concat(hist)\n",
        "data.reset_index(drop=True, inplace=True)\n",
        "data.head()"
      ],
      "id": "2270aca7",
      "execution_count": 27,
      "outputs": [
        {
          "output_type": "execute_result",
          "data": {
            "text/html": [
              "<div>\n",
              "<style scoped>\n",
              "    .dataframe tbody tr th:only-of-type {\n",
              "        vertical-align: middle;\n",
              "    }\n",
              "\n",
              "    .dataframe tbody tr th {\n",
              "        vertical-align: top;\n",
              "    }\n",
              "\n",
              "    .dataframe thead th {\n",
              "        text-align: right;\n",
              "    }\n",
              "</style>\n",
              "<table border=\"1\" class=\"dataframe\">\n",
              "  <thead>\n",
              "    <tr style=\"text-align: right;\">\n",
              "      <th></th>\n",
              "      <th>date</th>\n",
              "      <th>open</th>\n",
              "      <th>high</th>\n",
              "      <th>low</th>\n",
              "      <th>close</th>\n",
              "      <th>ticker</th>\n",
              "    </tr>\n",
              "  </thead>\n",
              "  <tbody>\n",
              "    <tr>\n",
              "      <th>0</th>\n",
              "      <td>2019-06-12</td>\n",
              "      <td>7884.90</td>\n",
              "      <td>8200.00</td>\n",
              "      <td>7788.99</td>\n",
              "      <td>8127.64</td>\n",
              "      <td>BTCUSDT</td>\n",
              "    </tr>\n",
              "    <tr>\n",
              "      <th>1</th>\n",
              "      <td>2019-06-13</td>\n",
              "      <td>8127.64</td>\n",
              "      <td>8309.82</td>\n",
              "      <td>8010.03</td>\n",
              "      <td>8218.54</td>\n",
              "      <td>BTCUSDT</td>\n",
              "    </tr>\n",
              "    <tr>\n",
              "      <th>2</th>\n",
              "      <td>2019-06-14</td>\n",
              "      <td>8216.44</td>\n",
              "      <td>8684.41</td>\n",
              "      <td>8144.32</td>\n",
              "      <td>8650.00</td>\n",
              "      <td>BTCUSDT</td>\n",
              "    </tr>\n",
              "    <tr>\n",
              "      <th>3</th>\n",
              "      <td>2019-06-15</td>\n",
              "      <td>8650.88</td>\n",
              "      <td>8864.99</td>\n",
              "      <td>8567.63</td>\n",
              "      <td>8808.70</td>\n",
              "      <td>BTCUSDT</td>\n",
              "    </tr>\n",
              "    <tr>\n",
              "      <th>4</th>\n",
              "      <td>2019-06-16</td>\n",
              "      <td>8810.77</td>\n",
              "      <td>9333.00</td>\n",
              "      <td>8760.00</td>\n",
              "      <td>8953.33</td>\n",
              "      <td>BTCUSDT</td>\n",
              "    </tr>\n",
              "  </tbody>\n",
              "</table>\n",
              "</div>"
            ],
            "text/plain": [
              "        date     open     high      low    close   ticker\n",
              "0 2019-06-12  7884.90  8200.00  7788.99  8127.64  BTCUSDT\n",
              "1 2019-06-13  8127.64  8309.82  8010.03  8218.54  BTCUSDT\n",
              "2 2019-06-14  8216.44  8684.41  8144.32  8650.00  BTCUSDT\n",
              "3 2019-06-15  8650.88  8864.99  8567.63  8808.70  BTCUSDT\n",
              "4 2019-06-16  8810.77  9333.00  8760.00  8953.33  BTCUSDT"
            ]
          },
          "metadata": {
            "tags": []
          },
          "execution_count": 27
        }
      ]
    },
    {
      "cell_type": "code",
      "metadata": {
        "id": "aeb4c086"
      },
      "source": [
        "data.to_csv('USDT_Bridge_Coins')"
      ],
      "id": "aeb4c086",
      "execution_count": 28,
      "outputs": []
    },
    {
      "cell_type": "code",
      "metadata": {
        "id": "3da8d613"
      },
      "source": [
        "df = pd.read_csv('USDT_Bridge_Coins')"
      ],
      "id": "3da8d613",
      "execution_count": 29,
      "outputs": []
    },
    {
      "cell_type": "code",
      "metadata": {
        "id": "70aed2f0",
        "outputId": "2e4f17dd-2a47-486c-9441-15e3435b245f",
        "colab": {
          "base_uri": "https://localhost:8080/",
          "height": 358
        }
      },
      "source": [
        "df = data.pivot(index='date', columns='ticker', values='close')\n",
        "df.head()"
      ],
      "id": "70aed2f0",
      "execution_count": 31,
      "outputs": [
        {
          "output_type": "execute_result",
          "data": {
            "text/html": [
              "<div>\n",
              "<style scoped>\n",
              "    .dataframe tbody tr th:only-of-type {\n",
              "        vertical-align: middle;\n",
              "    }\n",
              "\n",
              "    .dataframe tbody tr th {\n",
              "        vertical-align: top;\n",
              "    }\n",
              "\n",
              "    .dataframe thead th {\n",
              "        text-align: right;\n",
              "    }\n",
              "</style>\n",
              "<table border=\"1\" class=\"dataframe\">\n",
              "  <thead>\n",
              "    <tr style=\"text-align: right;\">\n",
              "      <th>ticker</th>\n",
              "      <th>1INCHUSDT</th>\n",
              "      <th>AAVEUSDT</th>\n",
              "      <th>ACMUSDT</th>\n",
              "      <th>ADAUSDT</th>\n",
              "      <th>AIONUSDT</th>\n",
              "      <th>AKROUSDT</th>\n",
              "      <th>ALGOUSDT</th>\n",
              "      <th>ALICEUSDT</th>\n",
              "      <th>ALPHAUSDT</th>\n",
              "      <th>ANKRUSDT</th>\n",
              "      <th>ANTUSDT</th>\n",
              "      <th>ARDRUSDT</th>\n",
              "      <th>ARPAUSDT</th>\n",
              "      <th>ARUSDT</th>\n",
              "      <th>ASRUSDT</th>\n",
              "      <th>ATAUSDT</th>\n",
              "      <th>ATMUSDT</th>\n",
              "      <th>ATOMUSDT</th>\n",
              "      <th>AUDIOUSDT</th>\n",
              "      <th>AUDUSDT</th>\n",
              "      <th>AUTOUSDT</th>\n",
              "      <th>AVAUSDT</th>\n",
              "      <th>AVAXUSDT</th>\n",
              "      <th>AXSUSDT</th>\n",
              "      <th>BADGERUSDT</th>\n",
              "      <th>BAKEUSDT</th>\n",
              "      <th>BALUSDT</th>\n",
              "      <th>BANDUSDT</th>\n",
              "      <th>BARUSDT</th>\n",
              "      <th>BATUSDT</th>\n",
              "      <th>BCHUSDT</th>\n",
              "      <th>BEAMUSDT</th>\n",
              "      <th>BELUSDT</th>\n",
              "      <th>BLZUSDT</th>\n",
              "      <th>BNBUSDT</th>\n",
              "      <th>BNTUSDT</th>\n",
              "      <th>BTCSTUSDT</th>\n",
              "      <th>BTCUSDT</th>\n",
              "      <th>BTGUSDT</th>\n",
              "      <th>BTSUSDT</th>\n",
              "      <th>...</th>\n",
              "      <th>TRXUSDT</th>\n",
              "      <th>TUSDUSDT</th>\n",
              "      <th>TWTUSDT</th>\n",
              "      <th>UMAUSDT</th>\n",
              "      <th>UNFIUSDT</th>\n",
              "      <th>UNIUSDT</th>\n",
              "      <th>USDCUSDT</th>\n",
              "      <th>USDTBIDR</th>\n",
              "      <th>USDTBRL</th>\n",
              "      <th>USDTBVND</th>\n",
              "      <th>USDTDAI</th>\n",
              "      <th>USDTIDRT</th>\n",
              "      <th>USDTNGN</th>\n",
              "      <th>USDTRUB</th>\n",
              "      <th>USDTTRY</th>\n",
              "      <th>USDTUAH</th>\n",
              "      <th>UTKUSDT</th>\n",
              "      <th>VETUSDT</th>\n",
              "      <th>VITEUSDT</th>\n",
              "      <th>VTHOUSDT</th>\n",
              "      <th>WANUSDT</th>\n",
              "      <th>WAVESUSDT</th>\n",
              "      <th>WINGUSDT</th>\n",
              "      <th>WINUSDT</th>\n",
              "      <th>WNXMUSDT</th>\n",
              "      <th>WRXUSDT</th>\n",
              "      <th>WTCUSDT</th>\n",
              "      <th>XEMUSDT</th>\n",
              "      <th>XLMUSDT</th>\n",
              "      <th>XMRUSDT</th>\n",
              "      <th>XRPUSDT</th>\n",
              "      <th>XTZUSDT</th>\n",
              "      <th>XVGUSDT</th>\n",
              "      <th>XVSUSDT</th>\n",
              "      <th>YFIIUSDT</th>\n",
              "      <th>YFIUSDT</th>\n",
              "      <th>ZECUSDT</th>\n",
              "      <th>ZENUSDT</th>\n",
              "      <th>ZILUSDT</th>\n",
              "      <th>ZRXUSDT</th>\n",
              "    </tr>\n",
              "    <tr>\n",
              "      <th>date</th>\n",
              "      <th></th>\n",
              "      <th></th>\n",
              "      <th></th>\n",
              "      <th></th>\n",
              "      <th></th>\n",
              "      <th></th>\n",
              "      <th></th>\n",
              "      <th></th>\n",
              "      <th></th>\n",
              "      <th></th>\n",
              "      <th></th>\n",
              "      <th></th>\n",
              "      <th></th>\n",
              "      <th></th>\n",
              "      <th></th>\n",
              "      <th></th>\n",
              "      <th></th>\n",
              "      <th></th>\n",
              "      <th></th>\n",
              "      <th></th>\n",
              "      <th></th>\n",
              "      <th></th>\n",
              "      <th></th>\n",
              "      <th></th>\n",
              "      <th></th>\n",
              "      <th></th>\n",
              "      <th></th>\n",
              "      <th></th>\n",
              "      <th></th>\n",
              "      <th></th>\n",
              "      <th></th>\n",
              "      <th></th>\n",
              "      <th></th>\n",
              "      <th></th>\n",
              "      <th></th>\n",
              "      <th></th>\n",
              "      <th></th>\n",
              "      <th></th>\n",
              "      <th></th>\n",
              "      <th></th>\n",
              "      <th></th>\n",
              "      <th></th>\n",
              "      <th></th>\n",
              "      <th></th>\n",
              "      <th></th>\n",
              "      <th></th>\n",
              "      <th></th>\n",
              "      <th></th>\n",
              "      <th></th>\n",
              "      <th></th>\n",
              "      <th></th>\n",
              "      <th></th>\n",
              "      <th></th>\n",
              "      <th></th>\n",
              "      <th></th>\n",
              "      <th></th>\n",
              "      <th></th>\n",
              "      <th></th>\n",
              "      <th></th>\n",
              "      <th></th>\n",
              "      <th></th>\n",
              "      <th></th>\n",
              "      <th></th>\n",
              "      <th></th>\n",
              "      <th></th>\n",
              "      <th></th>\n",
              "      <th></th>\n",
              "      <th></th>\n",
              "      <th></th>\n",
              "      <th></th>\n",
              "      <th></th>\n",
              "      <th></th>\n",
              "      <th></th>\n",
              "      <th></th>\n",
              "      <th></th>\n",
              "      <th></th>\n",
              "      <th></th>\n",
              "      <th></th>\n",
              "      <th></th>\n",
              "      <th></th>\n",
              "      <th></th>\n",
              "    </tr>\n",
              "  </thead>\n",
              "  <tbody>\n",
              "    <tr>\n",
              "      <th>2019-06-12</th>\n",
              "      <td>NaN</td>\n",
              "      <td>NaN</td>\n",
              "      <td>NaN</td>\n",
              "      <td>0.09603</td>\n",
              "      <td>NaN</td>\n",
              "      <td>NaN</td>\n",
              "      <td>NaN</td>\n",
              "      <td>NaN</td>\n",
              "      <td>NaN</td>\n",
              "      <td>NaN</td>\n",
              "      <td>NaN</td>\n",
              "      <td>NaN</td>\n",
              "      <td>NaN</td>\n",
              "      <td>NaN</td>\n",
              "      <td>NaN</td>\n",
              "      <td>NaN</td>\n",
              "      <td>NaN</td>\n",
              "      <td>6.124</td>\n",
              "      <td>NaN</td>\n",
              "      <td>NaN</td>\n",
              "      <td>NaN</td>\n",
              "      <td>NaN</td>\n",
              "      <td>NaN</td>\n",
              "      <td>NaN</td>\n",
              "      <td>NaN</td>\n",
              "      <td>NaN</td>\n",
              "      <td>NaN</td>\n",
              "      <td>NaN</td>\n",
              "      <td>NaN</td>\n",
              "      <td>0.3336</td>\n",
              "      <td>NaN</td>\n",
              "      <td>NaN</td>\n",
              "      <td>NaN</td>\n",
              "      <td>NaN</td>\n",
              "      <td>34.8888</td>\n",
              "      <td>NaN</td>\n",
              "      <td>NaN</td>\n",
              "      <td>8127.64</td>\n",
              "      <td>NaN</td>\n",
              "      <td>NaN</td>\n",
              "      <td>...</td>\n",
              "      <td>0.03349</td>\n",
              "      <td>0.9941</td>\n",
              "      <td>NaN</td>\n",
              "      <td>NaN</td>\n",
              "      <td>NaN</td>\n",
              "      <td>NaN</td>\n",
              "      <td>0.9949</td>\n",
              "      <td>NaN</td>\n",
              "      <td>NaN</td>\n",
              "      <td>NaN</td>\n",
              "      <td>NaN</td>\n",
              "      <td>NaN</td>\n",
              "      <td>NaN</td>\n",
              "      <td>NaN</td>\n",
              "      <td>NaN</td>\n",
              "      <td>NaN</td>\n",
              "      <td>NaN</td>\n",
              "      <td>0.007576</td>\n",
              "      <td>NaN</td>\n",
              "      <td>NaN</td>\n",
              "      <td>NaN</td>\n",
              "      <td>2.4361</td>\n",
              "      <td>NaN</td>\n",
              "      <td>NaN</td>\n",
              "      <td>NaN</td>\n",
              "      <td>NaN</td>\n",
              "      <td>NaN</td>\n",
              "      <td>NaN</td>\n",
              "      <td>0.12697</td>\n",
              "      <td>90.10</td>\n",
              "      <td>0.40074</td>\n",
              "      <td>NaN</td>\n",
              "      <td>NaN</td>\n",
              "      <td>NaN</td>\n",
              "      <td>NaN</td>\n",
              "      <td>NaN</td>\n",
              "      <td>91.10</td>\n",
              "      <td>NaN</td>\n",
              "      <td>0.02318</td>\n",
              "      <td>0.3316</td>\n",
              "    </tr>\n",
              "    <tr>\n",
              "      <th>2019-06-13</th>\n",
              "      <td>NaN</td>\n",
              "      <td>NaN</td>\n",
              "      <td>NaN</td>\n",
              "      <td>0.08966</td>\n",
              "      <td>NaN</td>\n",
              "      <td>NaN</td>\n",
              "      <td>NaN</td>\n",
              "      <td>NaN</td>\n",
              "      <td>NaN</td>\n",
              "      <td>NaN</td>\n",
              "      <td>NaN</td>\n",
              "      <td>NaN</td>\n",
              "      <td>NaN</td>\n",
              "      <td>NaN</td>\n",
              "      <td>NaN</td>\n",
              "      <td>NaN</td>\n",
              "      <td>NaN</td>\n",
              "      <td>6.266</td>\n",
              "      <td>NaN</td>\n",
              "      <td>NaN</td>\n",
              "      <td>NaN</td>\n",
              "      <td>NaN</td>\n",
              "      <td>NaN</td>\n",
              "      <td>NaN</td>\n",
              "      <td>NaN</td>\n",
              "      <td>NaN</td>\n",
              "      <td>NaN</td>\n",
              "      <td>NaN</td>\n",
              "      <td>NaN</td>\n",
              "      <td>0.3243</td>\n",
              "      <td>NaN</td>\n",
              "      <td>NaN</td>\n",
              "      <td>NaN</td>\n",
              "      <td>NaN</td>\n",
              "      <td>35.2510</td>\n",
              "      <td>NaN</td>\n",
              "      <td>NaN</td>\n",
              "      <td>8218.54</td>\n",
              "      <td>NaN</td>\n",
              "      <td>NaN</td>\n",
              "      <td>...</td>\n",
              "      <td>0.03255</td>\n",
              "      <td>0.9970</td>\n",
              "      <td>NaN</td>\n",
              "      <td>NaN</td>\n",
              "      <td>NaN</td>\n",
              "      <td>NaN</td>\n",
              "      <td>0.9976</td>\n",
              "      <td>NaN</td>\n",
              "      <td>NaN</td>\n",
              "      <td>NaN</td>\n",
              "      <td>NaN</td>\n",
              "      <td>NaN</td>\n",
              "      <td>NaN</td>\n",
              "      <td>NaN</td>\n",
              "      <td>NaN</td>\n",
              "      <td>NaN</td>\n",
              "      <td>NaN</td>\n",
              "      <td>0.007559</td>\n",
              "      <td>NaN</td>\n",
              "      <td>NaN</td>\n",
              "      <td>NaN</td>\n",
              "      <td>2.4726</td>\n",
              "      <td>NaN</td>\n",
              "      <td>NaN</td>\n",
              "      <td>NaN</td>\n",
              "      <td>NaN</td>\n",
              "      <td>NaN</td>\n",
              "      <td>NaN</td>\n",
              "      <td>0.12414</td>\n",
              "      <td>89.26</td>\n",
              "      <td>0.39876</td>\n",
              "      <td>NaN</td>\n",
              "      <td>NaN</td>\n",
              "      <td>NaN</td>\n",
              "      <td>NaN</td>\n",
              "      <td>NaN</td>\n",
              "      <td>87.84</td>\n",
              "      <td>NaN</td>\n",
              "      <td>0.02265</td>\n",
              "      <td>0.3237</td>\n",
              "    </tr>\n",
              "    <tr>\n",
              "      <th>2019-06-14</th>\n",
              "      <td>NaN</td>\n",
              "      <td>NaN</td>\n",
              "      <td>NaN</td>\n",
              "      <td>0.09008</td>\n",
              "      <td>NaN</td>\n",
              "      <td>NaN</td>\n",
              "      <td>NaN</td>\n",
              "      <td>NaN</td>\n",
              "      <td>NaN</td>\n",
              "      <td>NaN</td>\n",
              "      <td>NaN</td>\n",
              "      <td>NaN</td>\n",
              "      <td>NaN</td>\n",
              "      <td>NaN</td>\n",
              "      <td>NaN</td>\n",
              "      <td>NaN</td>\n",
              "      <td>NaN</td>\n",
              "      <td>6.222</td>\n",
              "      <td>NaN</td>\n",
              "      <td>NaN</td>\n",
              "      <td>NaN</td>\n",
              "      <td>NaN</td>\n",
              "      <td>NaN</td>\n",
              "      <td>NaN</td>\n",
              "      <td>NaN</td>\n",
              "      <td>NaN</td>\n",
              "      <td>NaN</td>\n",
              "      <td>NaN</td>\n",
              "      <td>NaN</td>\n",
              "      <td>0.3184</td>\n",
              "      <td>NaN</td>\n",
              "      <td>NaN</td>\n",
              "      <td>NaN</td>\n",
              "      <td>NaN</td>\n",
              "      <td>32.3803</td>\n",
              "      <td>NaN</td>\n",
              "      <td>NaN</td>\n",
              "      <td>8650.00</td>\n",
              "      <td>NaN</td>\n",
              "      <td>NaN</td>\n",
              "      <td>...</td>\n",
              "      <td>0.03184</td>\n",
              "      <td>0.9956</td>\n",
              "      <td>NaN</td>\n",
              "      <td>NaN</td>\n",
              "      <td>NaN</td>\n",
              "      <td>NaN</td>\n",
              "      <td>0.9956</td>\n",
              "      <td>NaN</td>\n",
              "      <td>NaN</td>\n",
              "      <td>NaN</td>\n",
              "      <td>NaN</td>\n",
              "      <td>NaN</td>\n",
              "      <td>NaN</td>\n",
              "      <td>NaN</td>\n",
              "      <td>NaN</td>\n",
              "      <td>NaN</td>\n",
              "      <td>NaN</td>\n",
              "      <td>0.007271</td>\n",
              "      <td>NaN</td>\n",
              "      <td>NaN</td>\n",
              "      <td>NaN</td>\n",
              "      <td>2.3768</td>\n",
              "      <td>NaN</td>\n",
              "      <td>NaN</td>\n",
              "      <td>NaN</td>\n",
              "      <td>NaN</td>\n",
              "      <td>NaN</td>\n",
              "      <td>NaN</td>\n",
              "      <td>0.12486</td>\n",
              "      <td>90.29</td>\n",
              "      <td>0.40201</td>\n",
              "      <td>NaN</td>\n",
              "      <td>NaN</td>\n",
              "      <td>NaN</td>\n",
              "      <td>NaN</td>\n",
              "      <td>NaN</td>\n",
              "      <td>90.68</td>\n",
              "      <td>NaN</td>\n",
              "      <td>0.02274</td>\n",
              "      <td>0.3344</td>\n",
              "    </tr>\n",
              "    <tr>\n",
              "      <th>2019-06-15</th>\n",
              "      <td>NaN</td>\n",
              "      <td>NaN</td>\n",
              "      <td>NaN</td>\n",
              "      <td>0.09127</td>\n",
              "      <td>NaN</td>\n",
              "      <td>NaN</td>\n",
              "      <td>NaN</td>\n",
              "      <td>NaN</td>\n",
              "      <td>NaN</td>\n",
              "      <td>NaN</td>\n",
              "      <td>NaN</td>\n",
              "      <td>NaN</td>\n",
              "      <td>NaN</td>\n",
              "      <td>NaN</td>\n",
              "      <td>NaN</td>\n",
              "      <td>NaN</td>\n",
              "      <td>NaN</td>\n",
              "      <td>6.167</td>\n",
              "      <td>NaN</td>\n",
              "      <td>NaN</td>\n",
              "      <td>NaN</td>\n",
              "      <td>NaN</td>\n",
              "      <td>NaN</td>\n",
              "      <td>NaN</td>\n",
              "      <td>NaN</td>\n",
              "      <td>NaN</td>\n",
              "      <td>NaN</td>\n",
              "      <td>NaN</td>\n",
              "      <td>NaN</td>\n",
              "      <td>0.3286</td>\n",
              "      <td>NaN</td>\n",
              "      <td>NaN</td>\n",
              "      <td>NaN</td>\n",
              "      <td>NaN</td>\n",
              "      <td>32.6743</td>\n",
              "      <td>NaN</td>\n",
              "      <td>NaN</td>\n",
              "      <td>8808.70</td>\n",
              "      <td>NaN</td>\n",
              "      <td>NaN</td>\n",
              "      <td>...</td>\n",
              "      <td>0.03264</td>\n",
              "      <td>0.9953</td>\n",
              "      <td>NaN</td>\n",
              "      <td>NaN</td>\n",
              "      <td>NaN</td>\n",
              "      <td>NaN</td>\n",
              "      <td>0.9953</td>\n",
              "      <td>NaN</td>\n",
              "      <td>NaN</td>\n",
              "      <td>NaN</td>\n",
              "      <td>NaN</td>\n",
              "      <td>NaN</td>\n",
              "      <td>NaN</td>\n",
              "      <td>NaN</td>\n",
              "      <td>NaN</td>\n",
              "      <td>NaN</td>\n",
              "      <td>NaN</td>\n",
              "      <td>0.007333</td>\n",
              "      <td>NaN</td>\n",
              "      <td>NaN</td>\n",
              "      <td>NaN</td>\n",
              "      <td>2.4139</td>\n",
              "      <td>NaN</td>\n",
              "      <td>NaN</td>\n",
              "      <td>NaN</td>\n",
              "      <td>NaN</td>\n",
              "      <td>NaN</td>\n",
              "      <td>NaN</td>\n",
              "      <td>0.12638</td>\n",
              "      <td>94.72</td>\n",
              "      <td>0.40950</td>\n",
              "      <td>NaN</td>\n",
              "      <td>NaN</td>\n",
              "      <td>NaN</td>\n",
              "      <td>NaN</td>\n",
              "      <td>NaN</td>\n",
              "      <td>92.08</td>\n",
              "      <td>NaN</td>\n",
              "      <td>0.02285</td>\n",
              "      <td>0.3571</td>\n",
              "    </tr>\n",
              "    <tr>\n",
              "      <th>2019-06-16</th>\n",
              "      <td>NaN</td>\n",
              "      <td>NaN</td>\n",
              "      <td>NaN</td>\n",
              "      <td>0.09189</td>\n",
              "      <td>NaN</td>\n",
              "      <td>NaN</td>\n",
              "      <td>NaN</td>\n",
              "      <td>NaN</td>\n",
              "      <td>NaN</td>\n",
              "      <td>NaN</td>\n",
              "      <td>NaN</td>\n",
              "      <td>NaN</td>\n",
              "      <td>NaN</td>\n",
              "      <td>NaN</td>\n",
              "      <td>NaN</td>\n",
              "      <td>NaN</td>\n",
              "      <td>NaN</td>\n",
              "      <td>6.692</td>\n",
              "      <td>NaN</td>\n",
              "      <td>NaN</td>\n",
              "      <td>NaN</td>\n",
              "      <td>NaN</td>\n",
              "      <td>NaN</td>\n",
              "      <td>NaN</td>\n",
              "      <td>NaN</td>\n",
              "      <td>NaN</td>\n",
              "      <td>NaN</td>\n",
              "      <td>NaN</td>\n",
              "      <td>NaN</td>\n",
              "      <td>0.3349</td>\n",
              "      <td>NaN</td>\n",
              "      <td>NaN</td>\n",
              "      <td>NaN</td>\n",
              "      <td>NaN</td>\n",
              "      <td>32.1888</td>\n",
              "      <td>NaN</td>\n",
              "      <td>NaN</td>\n",
              "      <td>8953.33</td>\n",
              "      <td>NaN</td>\n",
              "      <td>NaN</td>\n",
              "      <td>...</td>\n",
              "      <td>0.03281</td>\n",
              "      <td>0.9972</td>\n",
              "      <td>NaN</td>\n",
              "      <td>NaN</td>\n",
              "      <td>NaN</td>\n",
              "      <td>NaN</td>\n",
              "      <td>0.9975</td>\n",
              "      <td>NaN</td>\n",
              "      <td>NaN</td>\n",
              "      <td>NaN</td>\n",
              "      <td>NaN</td>\n",
              "      <td>NaN</td>\n",
              "      <td>NaN</td>\n",
              "      <td>NaN</td>\n",
              "      <td>NaN</td>\n",
              "      <td>NaN</td>\n",
              "      <td>NaN</td>\n",
              "      <td>0.007257</td>\n",
              "      <td>NaN</td>\n",
              "      <td>NaN</td>\n",
              "      <td>NaN</td>\n",
              "      <td>2.4249</td>\n",
              "      <td>NaN</td>\n",
              "      <td>NaN</td>\n",
              "      <td>NaN</td>\n",
              "      <td>NaN</td>\n",
              "      <td>NaN</td>\n",
              "      <td>NaN</td>\n",
              "      <td>0.12958</td>\n",
              "      <td>95.99</td>\n",
              "      <td>0.42703</td>\n",
              "      <td>NaN</td>\n",
              "      <td>NaN</td>\n",
              "      <td>NaN</td>\n",
              "      <td>NaN</td>\n",
              "      <td>NaN</td>\n",
              "      <td>93.51</td>\n",
              "      <td>NaN</td>\n",
              "      <td>0.02512</td>\n",
              "      <td>0.3473</td>\n",
              "    </tr>\n",
              "  </tbody>\n",
              "</table>\n",
              "<p>5 rows × 242 columns</p>\n",
              "</div>"
            ],
            "text/plain": [
              "ticker      1INCHUSDT  AAVEUSDT  ACMUSDT  ...  ZENUSDT  ZILUSDT  ZRXUSDT\n",
              "date                                      ...                           \n",
              "2019-06-12        NaN       NaN      NaN  ...      NaN  0.02318   0.3316\n",
              "2019-06-13        NaN       NaN      NaN  ...      NaN  0.02265   0.3237\n",
              "2019-06-14        NaN       NaN      NaN  ...      NaN  0.02274   0.3344\n",
              "2019-06-15        NaN       NaN      NaN  ...      NaN  0.02285   0.3571\n",
              "2019-06-16        NaN       NaN      NaN  ...      NaN  0.02512   0.3473\n",
              "\n",
              "[5 rows x 242 columns]"
            ]
          },
          "metadata": {
            "tags": []
          },
          "execution_count": 31
        }
      ]
    },
    {
      "cell_type": "code",
      "metadata": {
        "id": "33751aed"
      },
      "source": [
        "naughty = ('BUSDTRY','BUSDUSDT','BNBUSDT')\n",
        "for i in naughty:\n",
        "    df.pop(i)"
      ],
      "id": "33751aed",
      "execution_count": 32,
      "outputs": []
    },
    {
      "cell_type": "code",
      "metadata": {
        "id": "f3011820",
        "outputId": "02e3cadb-883e-4e3d-aa15-4f2eef7dda30",
        "colab": {
          "base_uri": "https://localhost:8080/",
          "height": 584
        }
      },
      "source": [
        "import missingno\n",
        "missingno.matrix(df)"
      ],
      "id": "f3011820",
      "execution_count": 33,
      "outputs": [
        {
          "output_type": "execute_result",
          "data": {
            "text/plain": [
              "<matplotlib.axes._subplots.AxesSubplot at 0x7f739c5c6850>"
            ]
          },
          "metadata": {
            "tags": []
          },
          "execution_count": 33
        },
        {
          "output_type": "display_data",
          "data": {
            "image/png": "[encoded data removed]",
            "text/plain": [
              "<Figure size 1800x720 with 2 Axes>"
            ]
          },
          "metadata": {
            "tags": [],
            "needs_background": "light"
          }
        }
      ]
    },
    {
      "cell_type": "code",
      "metadata": {
        "id": "e54ce40e",
        "outputId": "a7ba375a-698f-4bca-d2e4-f1b3f5cf5add",
        "colab": {
          "base_uri": "https://localhost:8080/"
        }
      },
      "source": [
        "print('Data Shape before cleaning =', df.shape)\n",
        "\n",
        "missing_percentage = df.isnull().mean().sort_values(ascending=False)\n",
        "missing_percentage.head(10)\n",
        "dropped_list = sorted(list(missing_percentage[missing_percentage > 0.2].index))\n",
        "df.drop(labels=dropped_list, axis=1, inplace=True)\n",
        "\n",
        "print('Data Shape after cleaning =', df.shape)"
      ],
      "id": "e54ce40e",
      "execution_count": 34,
      "outputs": [
        {
          "output_type": "stream",
          "text": [
            "Data Shape before cleaning = (730, 239)\n",
            "Data Shape after cleaning = (730, 71)\n"
          ],
          "name": "stdout"
        }
      ]
    },
    {
      "cell_type": "code",
      "metadata": {
        "id": "82e0ca4f"
      },
      "source": [
        "df = df.fillna(method='ffill')"
      ],
      "id": "82e0ca4f",
      "execution_count": 35,
      "outputs": []
    },
    {
      "cell_type": "code",
      "metadata": {
        "id": "a03d4af4",
        "outputId": "ad95b8ca-9d26-40cc-d5c8-07844db60393",
        "colab": {
          "base_uri": "https://localhost:8080/",
          "height": 225
        }
      },
      "source": [
        "import numpy as np\n",
        "\n",
        "#Calculate # returns and create a data frame\n",
        "returns = df.pct_change().mean()*90\n",
        "returns = pd.DataFrame(returns)\n",
        "returns.columns = ['returns']\n",
        "\n",
        "#Calculate the volatility\n",
        "returns['volatility'] = df.pct_change().std()*np.sqrt(90)\n",
        "\n",
        "df = returns\n",
        "df.head()"
      ],
      "id": "a03d4af4",
      "execution_count": 36,
      "outputs": [
        {
          "output_type": "execute_result",
          "data": {
            "text/html": [
              "<div>\n",
              "<style scoped>\n",
              "    .dataframe tbody tr th:only-of-type {\n",
              "        vertical-align: middle;\n",
              "    }\n",
              "\n",
              "    .dataframe tbody tr th {\n",
              "        vertical-align: top;\n",
              "    }\n",
              "\n",
              "    .dataframe thead th {\n",
              "        text-align: right;\n",
              "    }\n",
              "</style>\n",
              "<table border=\"1\" class=\"dataframe\">\n",
              "  <thead>\n",
              "    <tr style=\"text-align: right;\">\n",
              "      <th></th>\n",
              "      <th>returns</th>\n",
              "      <th>volatility</th>\n",
              "    </tr>\n",
              "    <tr>\n",
              "      <th>ticker</th>\n",
              "      <th></th>\n",
              "      <th></th>\n",
              "    </tr>\n",
              "  </thead>\n",
              "  <tbody>\n",
              "    <tr>\n",
              "      <th>ADAUSDT</th>\n",
              "      <td>0.523601</td>\n",
              "      <td>0.594114</td>\n",
              "    </tr>\n",
              "    <tr>\n",
              "      <th>ALGOUSDT</th>\n",
              "      <td>0.162592</td>\n",
              "      <td>0.711646</td>\n",
              "    </tr>\n",
              "    <tr>\n",
              "      <th>ANKRUSDT</th>\n",
              "      <td>0.651490</td>\n",
              "      <td>0.819894</td>\n",
              "    </tr>\n",
              "    <tr>\n",
              "      <th>ATOMUSDT</th>\n",
              "      <td>0.320156</td>\n",
              "      <td>0.655540</td>\n",
              "    </tr>\n",
              "    <tr>\n",
              "      <th>BANDUSDT</th>\n",
              "      <td>0.753552</td>\n",
              "      <td>0.916160</td>\n",
              "    </tr>\n",
              "  </tbody>\n",
              "</table>\n",
              "</div>"
            ],
            "text/plain": [
              "           returns  volatility\n",
              "ticker                        \n",
              "ADAUSDT   0.523601    0.594114\n",
              "ALGOUSDT  0.162592    0.711646\n",
              "ANKRUSDT  0.651490    0.819894\n",
              "ATOMUSDT  0.320156    0.655540\n",
              "BANDUSDT  0.753552    0.916160"
            ]
          },
          "metadata": {
            "tags": []
          },
          "execution_count": 36
        }
      ]
    },
    {
      "cell_type": "code",
      "metadata": {
        "id": "16412b9e",
        "outputId": "fa87940f-2b4a-40fd-d4ad-779e39ec6a0b",
        "colab": {
          "base_uri": "https://localhost:8080/",
          "height": 225
        }
      },
      "source": [
        "from sklearn.preprocessing import StandardScaler\n",
        "\n",
        "#Prepare the scaler\n",
        "scale = StandardScaler().fit(df)\n",
        "\n",
        "#Fit the scaler\n",
        "scaled_data = pd.DataFrame(scale.fit_transform(df), columns=df.columns, index=df.index)\n",
        "X = scaled_data\n",
        "X.head()"
      ],
      "id": "16412b9e",
      "execution_count": 37,
      "outputs": [
        {
          "output_type": "execute_result",
          "data": {
            "text/html": [
              "<div>\n",
              "<style scoped>\n",
              "    .dataframe tbody tr th:only-of-type {\n",
              "        vertical-align: middle;\n",
              "    }\n",
              "\n",
              "    .dataframe tbody tr th {\n",
              "        vertical-align: top;\n",
              "    }\n",
              "\n",
              "    .dataframe thead th {\n",
              "        text-align: right;\n",
              "    }\n",
              "</style>\n",
              "<table border=\"1\" class=\"dataframe\">\n",
              "  <thead>\n",
              "    <tr style=\"text-align: right;\">\n",
              "      <th></th>\n",
              "      <th>returns</th>\n",
              "      <th>volatility</th>\n",
              "    </tr>\n",
              "    <tr>\n",
              "      <th>ticker</th>\n",
              "      <th></th>\n",
              "      <th></th>\n",
              "    </tr>\n",
              "  </thead>\n",
              "  <tbody>\n",
              "    <tr>\n",
              "      <th>ADAUSDT</th>\n",
              "      <td>-0.115791</td>\n",
              "      <td>-0.122185</td>\n",
              "    </tr>\n",
              "    <tr>\n",
              "      <th>ALGOUSDT</th>\n",
              "      <td>-0.133158</td>\n",
              "      <td>-0.120097</td>\n",
              "    </tr>\n",
              "    <tr>\n",
              "      <th>ANKRUSDT</th>\n",
              "      <td>-0.109639</td>\n",
              "      <td>-0.118173</td>\n",
              "    </tr>\n",
              "    <tr>\n",
              "      <th>ATOMUSDT</th>\n",
              "      <td>-0.125578</td>\n",
              "      <td>-0.121094</td>\n",
              "    </tr>\n",
              "    <tr>\n",
              "      <th>BANDUSDT</th>\n",
              "      <td>-0.104729</td>\n",
              "      <td>-0.116463</td>\n",
              "    </tr>\n",
              "  </tbody>\n",
              "</table>\n",
              "</div>"
            ],
            "text/plain": [
              "           returns  volatility\n",
              "ticker                        \n",
              "ADAUSDT  -0.115791   -0.122185\n",
              "ALGOUSDT -0.133158   -0.120097\n",
              "ANKRUSDT -0.109639   -0.118173\n",
              "ATOMUSDT -0.125578   -0.121094\n",
              "BANDUSDT -0.104729   -0.116463"
            ]
          },
          "metadata": {
            "tags": []
          },
          "execution_count": 37
        }
      ]
    },
    {
      "cell_type": "markdown",
      "metadata": {
        "id": "4c67636f"
      },
      "source": [
        "k-Means Clustering"
      ],
      "id": "4c67636f"
    },
    {
      "cell_type": "code",
      "metadata": {
        "id": "bdc5a8ce"
      },
      "source": [
        "from sklearn.cluster import KMeans\n",
        "from sklearn import metrics\n",
        "import matplotlib.pyplot as plt\n",
        "import warnings; warnings.simplefilter('ignore')\n",
        "%matplotlib inline"
      ],
      "id": "bdc5a8ce",
      "execution_count": 38,
      "outputs": []
    },
    {
      "cell_type": "code",
      "metadata": {
        "id": "c0a35755",
        "outputId": "1996d246-1fc6-4e92-98a2-90082eb4eb8b",
        "colab": {
          "base_uri": "https://localhost:8080/",
          "height": 350
        }
      },
      "source": [
        "K = range(1,15) \n",
        "distortions = []  \n",
        "\n",
        "for k in K:  \n",
        "    kmeanModel = KMeans(n_clusters=k)  \n",
        "    kmeanModel.fit(X)  \n",
        "    distortions.append(kmeanModel.inertia_)\n",
        "    \n",
        "#Plot the results\n",
        "fig = plt.figure(figsize= (15,5))\n",
        "plt.plot(K, distortions, 'bx-')\n",
        "plt.xlabel('Values of K')\n",
        "plt.ylabel('Distortion')\n",
        "plt.title('Elbow Method')\n",
        "plt.grid(True)\n",
        "plt.show()"
      ],
      "id": "c0a35755",
      "execution_count": 42,
      "outputs": [
        {
          "output_type": "display_data",
          "data": {
            "image/png": "[encoded data removed]",
            "text/plain": [
              "<Figure size 1080x360 with 1 Axes>"
            ]
          },
          "metadata": {
            "tags": [],
            "needs_background": "light"
          }
        }
      ]
    },
    {
      "cell_type": "code",
      "metadata": {
        "id": "a8f8b5e1",
        "outputId": "d92f86b8-0419-47d1-a07a-699cc64f4cd0",
        "colab": {
          "base_uri": "https://localhost:8080/",
          "height": 367
        }
      },
      "source": [
        "from sklearn.metrics import silhouette_score\n",
        "from kneed import KneeLocator\n",
        "\n",
        "K = range(2,15)\n",
        "silhouettes = []\n",
        "\n",
        "#Fit the method\n",
        "for k in K:\n",
        "    kmeans = KMeans(n_clusters=k, random_state=42, n_init=10, init='random')\n",
        "    kmeans.fit(X)\n",
        "    silhouettes.append(silhouette_score(X, kmeans.labels_))\n",
        "\n",
        "#Plot the results\n",
        "fig = plt.figure(figsize= (15,5))\n",
        "plt.plot(K, silhouettes, 'bx-')\n",
        "plt.xlabel('Values of K')\n",
        "plt.ylabel('Silhouette score')\n",
        "plt.title('Silhouette Method')\n",
        "plt.grid(True)\n",
        "plt.show()\n",
        "\n",
        "kl = KneeLocator(K, silhouettes, curve=\"convex\", direction=\"decreasing\")\n",
        "print('Suggested number of clusters: ', kl.elbow)"
      ],
      "id": "a8f8b5e1",
      "execution_count": 49,
      "outputs": [
        {
          "output_type": "display_data",
          "data": {
            "image/png": "[encoded data removed]",
            "text/plain": [
              "<Figure size 1080x360 with 1 Axes>"
            ]
          },
          "metadata": {
            "tags": [],
            "needs_background": "light"
          }
        },
        {
          "output_type": "stream",
          "text": [
            "Suggested number of clusters:  4\n"
          ],
          "name": "stdout"
        }
      ]
    },
    {
      "cell_type": "code",
      "metadata": {
        "id": "4CMbbVk0pHFB"
      },
      "source": [
        "import "
      ],
      "id": "4CMbbVk0pHFB",
      "execution_count": null,
      "outputs": []
    },
    {
      "cell_type": "code",
      "metadata": {
        "id": "7VYWVTOho41L",
        "outputId": "15268c92-bed4-41a8-d8b1-56384d322423",
        "colab": {
          "base_uri": "https://localhost:8080/"
        }
      },
      "source": [
        "pip install kneed\n"
      ],
      "id": "7VYWVTOho41L",
      "execution_count": 50,
      "outputs": [
        {
          "output_type": "stream",
          "text": [
            "Requirement already satisfied: kneed in /usr/local/lib/python3.7/dist-packages (0.7.0)\n",
            "Requirement already satisfied: matplotlib in /usr/local/lib/python3.7/dist-packages (from kneed) (3.2.2)\n",
            "Requirement already satisfied: scipy in /usr/local/lib/python3.7/dist-packages (from kneed) (1.4.1)\n",
            "Requirement already satisfied: numpy>=1.14.2 in /usr/local/lib/python3.7/dist-packages (from kneed) (1.19.5)\n",
            "Requirement already satisfied: python-dateutil>=2.1 in /usr/local/lib/python3.7/dist-packages (from matplotlib->kneed) (2.8.1)\n",
            "Requirement already satisfied: pyparsing!=2.0.4,!=2.1.2,!=2.1.6,>=2.0.1 in /usr/local/lib/python3.7/dist-packages (from matplotlib->kneed) (2.4.7)\n",
            "Requirement already satisfied: cycler>=0.10 in /usr/local/lib/python3.7/dist-packages (from matplotlib->kneed) (0.10.0)\n",
            "Requirement already satisfied: kiwisolver>=1.0.1 in /usr/local/lib/python3.7/dist-packages (from matplotlib->kneed) (1.3.1)\n",
            "Requirement already satisfied: six>=1.5 in /usr/local/lib/python3.7/dist-packages (from python-dateutil>=2.1->matplotlib->kneed) (1.15.0)\n"
          ],
          "name": "stdout"
        }
      ]
    },
    {
      "cell_type": "code",
      "metadata": {
        "id": "f169aa22"
      },
      "source": [
        "c = 4\n",
        "#Fit the model\n",
        "k_means = KMeans(n_clusters=c)\n",
        "k_means.fit(X)\n",
        "prediction = k_means.predict(X)"
      ],
      "id": "f169aa22",
      "execution_count": 51,
      "outputs": []
    },
    {
      "cell_type": "code",
      "metadata": {
        "id": "bcfd6690",
        "outputId": "1c2c4e28-b959-4d8d-b6a0-1eb065485200",
        "colab": {
          "base_uri": "https://localhost:8080/",
          "height": 513
        }
      },
      "source": [
        "clustered_series = pd.Series(index=X.index, data=k_means.labels_.flatten())\n",
        "clustered_series_all = pd.Series(index=X.index, data=k_means.labels_.flatten())\n",
        "clustered_series = clustered_series[clustered_series != -1]\n",
        "plt.figure(figsize=(12,8))\n",
        "plt.barh(range(len(clustered_series.value_counts())),clustered_series.value_counts())\n",
        "plt.title('Clusters')\n",
        "plt.xlabel('Coins per Cluster')\n",
        "plt.ylabel('Cluster Number')\n",
        "plt.show()"
      ],
      "id": "bcfd6690",
      "execution_count": 52,
      "outputs": [
        {
          "output_type": "display_data",
          "data": {
            "image/png": "[encoded data removed]",
            "text/plain": [
              "<Figure size 864x576 with 1 Axes>"
            ]
          },
          "metadata": {
            "tags": [],
            "needs_background": "light"
          }
        }
      ]
    },
    {
      "cell_type": "markdown",
      "metadata": {
        "id": "f2e8350c"
      },
      "source": [
        "Affinity Propagation Clustering"
      ],
      "id": "f2e8350c"
    },
    {
      "cell_type": "code",
      "metadata": {
        "id": "cdef68d1"
      },
      "source": [
        "from sklearn.cluster import AffinityPropagation\n",
        "\n",
        "#Fit the model\n",
        "ap = AffinityPropagation()\n",
        "ap.fit(X)\n",
        "labels1 = ap.predict(X)"
      ],
      "id": "cdef68d1",
      "execution_count": 53,
      "outputs": []
    },
    {
      "cell_type": "code",
      "metadata": {
        "id": "130436d9",
        "outputId": "b8842680-a715-4f1c-c6b5-4c7502aa345b",
        "colab": {
          "base_uri": "https://localhost:8080/"
        }
      },
      "source": [
        "from itertools import cycle\n",
        "\n",
        "cci = ap.cluster_centers_indices_\n",
        "labels2 = ap.labels_\n",
        "\n",
        "clusters = len(cci)\n",
        "print('The number of clusters is:',clusters)"
      ],
      "id": "130436d9",
      "execution_count": 55,
      "outputs": [
        {
          "output_type": "stream",
          "text": [
            "The number of clusters is: 9\n"
          ],
          "name": "stdout"
        }
      ]
    },
    {
      "cell_type": "code",
      "metadata": {
        "id": "6e3a5441",
        "outputId": "ea441411-a15b-4a1e-c89a-1599a9b7b253",
        "colab": {
          "base_uri": "https://localhost:8080/"
        }
      },
      "source": [
        "print(\"k-Means Clustering\", metrics.silhouette_score(X, k_means.labels_, metric='euclidean'))\n",
        "print(\"Affinity Propagation Clustering\", metrics.silhouette_score(X, ap.labels_, metric='euclidean'))"
      ],
      "id": "6e3a5441",
      "execution_count": 56,
      "outputs": [
        {
          "output_type": "stream",
          "text": [
            "k-Means Clustering 0.4501874088061825\n",
            "Affinity Propagation Clustering 0.4281382918517718\n"
          ],
          "name": "stdout"
        }
      ]
    },
    {
      "cell_type": "code",
      "metadata": {
        "id": "3be9f100",
        "outputId": "f2ca71be-60bc-475b-b95a-6e37a3fce830",
        "colab": {
          "base_uri": "https://localhost:8080/"
        }
      },
      "source": [
        "cluster_size_limit = 1000\n",
        "counts = clustered_series.value_counts()\n",
        "ticker_count = counts[(counts>1) & (counts<=cluster_size_limit)]\n",
        "print (\"Number of clusters: %d\" % len(ticker_count))\n",
        "print (\"Number of Pairs: %d\" % (ticker_count*(ticker_count-1)).sum())"
      ],
      "id": "3be9f100",
      "execution_count": 57,
      "outputs": [
        {
          "output_type": "stream",
          "text": [
            "Number of clusters: 3\n",
            "Number of Pairs: 1708\n"
          ],
          "name": "stdout"
        }
      ]
    },
    {
      "cell_type": "code",
      "metadata": {
        "id": "6a256ab5"
      },
      "source": [
        "def find_coint_pairs(data, significance=0.05):\n",
        "    n = data.shape[1]    \n",
        "    score_matrix = np.zeros((n, n))\n",
        "    pvalue_matrix = np.ones((n, n))\n",
        "    keys = data.keys()\n",
        "    pairs = []\n",
        "    for i in range(1):\n",
        "        for j in range(i+1, n):\n",
        "            S1 = data[keys[i]]            \n",
        "            S2 = data[keys[j]]\n",
        "            result = coint(S1, S2)\n",
        "            score = result[0]\n",
        "            pvalue = result[1]\n",
        "            score_matrix[i, j] = score\n",
        "            pvalue_matrix[i, j] = pvalue\n",
        "            if pvalue < significance:\n",
        "                pairs.append((keys[i], keys[j]))\n",
        "    return score_matrix, pvalue_matrix, pairs"
      ],
      "id": "6a256ab5",
      "execution_count": 58,
      "outputs": []
    },
    {
      "cell_type": "code",
      "metadata": {
        "id": "569dec3c",
        "outputId": "51c86e9b-2e18-4577-aeaa-135a5071b5f3",
        "colab": {
          "base_uri": "https://localhost:8080/"
        }
      },
      "source": [
        "from statsmodels.tsa.stattools import coint\n",
        "\n",
        "cluster_dict = {}\n",
        "\n",
        "for i, clust in enumerate(ticker_count.index):\n",
        "    tickers = clustered_series[clustered_series == clust].index\n",
        "    score_matrix, pvalue_matrix, pairs = find_coint_pairs(df.T[tickers])\n",
        "    cluster_dict[clust] = {}\n",
        "    cluster_dict[clust]['score_matrix'] = score_matrix\n",
        "    cluster_dict[clust]['pvalue_matrix'] = pvalue_matrix\n",
        "    cluster_dict[clust]['pairs'] = pairs\n",
        "    \n",
        "pairs = []   \n",
        "for cluster in cluster_dict.keys():\n",
        "    pairs.extend(cluster_dict[cluster]['pairs'])\n",
        "    \n",
        "print (\"Number of pairs:\", len(pairs))\n",
        "print (\"In those pairs, we found %d unique tickers.\" % len(np.unique(pairs)))\n",
        "#print(pairs)"
      ],
      "id": "569dec3c",
      "execution_count": 59,
      "outputs": [
        {
          "output_type": "stream",
          "text": [
            "Number of pairs: 67\n",
            "In those pairs, we found 70 unique tickers.\n"
          ],
          "name": "stdout"
        },
        {
          "output_type": "stream",
          "text": [
            "/usr/local/lib/python3.7/dist-packages/statsmodels/tsa/stattools.py:1432: CollinearityWarning: y0 and y1 are (almost) perfectly colinear.Cointegration test is not reliable in this case.\n",
            "  CollinearityWarning)\n",
            "/usr/local/lib/python3.7/dist-packages/statsmodels/tsa/stattools.py:1432: CollinearityWarning: y0 and y1 are (almost) perfectly colinear.Cointegration test is not reliable in this case.\n",
            "  CollinearityWarning)\n",
            "/usr/local/lib/python3.7/dist-packages/statsmodels/tsa/stattools.py:1432: CollinearityWarning: y0 and y1 are (almost) perfectly colinear.Cointegration test is not reliable in this case.\n",
            "  CollinearityWarning)\n",
            "/usr/local/lib/python3.7/dist-packages/statsmodels/tsa/stattools.py:1432: CollinearityWarning: y0 and y1 are (almost) perfectly colinear.Cointegration test is not reliable in this case.\n",
            "  CollinearityWarning)\n",
            "/usr/local/lib/python3.7/dist-packages/statsmodels/tsa/stattools.py:1432: CollinearityWarning: y0 and y1 are (almost) perfectly colinear.Cointegration test is not reliable in this case.\n",
            "  CollinearityWarning)\n",
            "/usr/local/lib/python3.7/dist-packages/statsmodels/tsa/stattools.py:1432: CollinearityWarning: y0 and y1 are (almost) perfectly colinear.Cointegration test is not reliable in this case.\n",
            "  CollinearityWarning)\n",
            "/usr/local/lib/python3.7/dist-packages/statsmodels/tsa/stattools.py:1432: CollinearityWarning: y0 and y1 are (almost) perfectly colinear.Cointegration test is not reliable in this case.\n",
            "  CollinearityWarning)\n",
            "/usr/local/lib/python3.7/dist-packages/statsmodels/tsa/stattools.py:1432: CollinearityWarning: y0 and y1 are (almost) perfectly colinear.Cointegration test is not reliable in this case.\n",
            "  CollinearityWarning)\n",
            "/usr/local/lib/python3.7/dist-packages/statsmodels/tsa/stattools.py:1432: CollinearityWarning: y0 and y1 are (almost) perfectly colinear.Cointegration test is not reliable in this case.\n",
            "  CollinearityWarning)\n",
            "/usr/local/lib/python3.7/dist-packages/statsmodels/tsa/stattools.py:1432: CollinearityWarning: y0 and y1 are (almost) perfectly colinear.Cointegration test is not reliable in this case.\n",
            "  CollinearityWarning)\n",
            "/usr/local/lib/python3.7/dist-packages/statsmodels/tsa/stattools.py:1432: CollinearityWarning: y0 and y1 are (almost) perfectly colinear.Cointegration test is not reliable in this case.\n",
            "  CollinearityWarning)\n",
            "/usr/local/lib/python3.7/dist-packages/statsmodels/tsa/stattools.py:1432: CollinearityWarning: y0 and y1 are (almost) perfectly colinear.Cointegration test is not reliable in this case.\n",
            "  CollinearityWarning)\n",
            "/usr/local/lib/python3.7/dist-packages/statsmodels/tsa/stattools.py:1432: CollinearityWarning: y0 and y1 are (almost) perfectly colinear.Cointegration test is not reliable in this case.\n",
            "  CollinearityWarning)\n",
            "/usr/local/lib/python3.7/dist-packages/statsmodels/tsa/stattools.py:1432: CollinearityWarning: y0 and y1 are (almost) perfectly colinear.Cointegration test is not reliable in this case.\n",
            "  CollinearityWarning)\n",
            "/usr/local/lib/python3.7/dist-packages/statsmodels/tsa/stattools.py:1432: CollinearityWarning: y0 and y1 are (almost) perfectly colinear.Cointegration test is not reliable in this case.\n",
            "  CollinearityWarning)\n",
            "/usr/local/lib/python3.7/dist-packages/statsmodels/tsa/stattools.py:1432: CollinearityWarning: y0 and y1 are (almost) perfectly colinear.Cointegration test is not reliable in this case.\n",
            "  CollinearityWarning)\n",
            "/usr/local/lib/python3.7/dist-packages/statsmodels/tsa/stattools.py:1432: CollinearityWarning: y0 and y1 are (almost) perfectly colinear.Cointegration test is not reliable in this case.\n",
            "  CollinearityWarning)\n",
            "/usr/local/lib/python3.7/dist-packages/statsmodels/tsa/stattools.py:1432: CollinearityWarning: y0 and y1 are (almost) perfectly colinear.Cointegration test is not reliable in this case.\n",
            "  CollinearityWarning)\n",
            "/usr/local/lib/python3.7/dist-packages/statsmodels/tsa/stattools.py:1432: CollinearityWarning: y0 and y1 are (almost) perfectly colinear.Cointegration test is not reliable in this case.\n",
            "  CollinearityWarning)\n",
            "/usr/local/lib/python3.7/dist-packages/statsmodels/tsa/stattools.py:1432: CollinearityWarning: y0 and y1 are (almost) perfectly colinear.Cointegration test is not reliable in this case.\n",
            "  CollinearityWarning)\n",
            "/usr/local/lib/python3.7/dist-packages/statsmodels/tsa/stattools.py:1432: CollinearityWarning: y0 and y1 are (almost) perfectly colinear.Cointegration test is not reliable in this case.\n",
            "  CollinearityWarning)\n",
            "/usr/local/lib/python3.7/dist-packages/statsmodels/tsa/stattools.py:1432: CollinearityWarning: y0 and y1 are (almost) perfectly colinear.Cointegration test is not reliable in this case.\n",
            "  CollinearityWarning)\n",
            "/usr/local/lib/python3.7/dist-packages/statsmodels/tsa/stattools.py:1432: CollinearityWarning: y0 and y1 are (almost) perfectly colinear.Cointegration test is not reliable in this case.\n",
            "  CollinearityWarning)\n",
            "/usr/local/lib/python3.7/dist-packages/statsmodels/tsa/stattools.py:1432: CollinearityWarning: y0 and y1 are (almost) perfectly colinear.Cointegration test is not reliable in this case.\n",
            "  CollinearityWarning)\n",
            "/usr/local/lib/python3.7/dist-packages/statsmodels/tsa/stattools.py:1432: CollinearityWarning: y0 and y1 are (almost) perfectly colinear.Cointegration test is not reliable in this case.\n",
            "  CollinearityWarning)\n",
            "/usr/local/lib/python3.7/dist-packages/statsmodels/tsa/stattools.py:1432: CollinearityWarning: y0 and y1 are (almost) perfectly colinear.Cointegration test is not reliable in this case.\n",
            "  CollinearityWarning)\n",
            "/usr/local/lib/python3.7/dist-packages/statsmodels/tsa/stattools.py:1432: CollinearityWarning: y0 and y1 are (almost) perfectly colinear.Cointegration test is not reliable in this case.\n",
            "  CollinearityWarning)\n",
            "/usr/local/lib/python3.7/dist-packages/statsmodels/tsa/stattools.py:1432: CollinearityWarning: y0 and y1 are (almost) perfectly colinear.Cointegration test is not reliable in this case.\n",
            "  CollinearityWarning)\n",
            "/usr/local/lib/python3.7/dist-packages/statsmodels/tsa/stattools.py:1432: CollinearityWarning: y0 and y1 are (almost) perfectly colinear.Cointegration test is not reliable in this case.\n",
            "  CollinearityWarning)\n",
            "/usr/local/lib/python3.7/dist-packages/statsmodels/tsa/stattools.py:1432: CollinearityWarning: y0 and y1 are (almost) perfectly colinear.Cointegration test is not reliable in this case.\n",
            "  CollinearityWarning)\n",
            "/usr/local/lib/python3.7/dist-packages/statsmodels/tsa/stattools.py:1432: CollinearityWarning: y0 and y1 are (almost) perfectly colinear.Cointegration test is not reliable in this case.\n",
            "  CollinearityWarning)\n",
            "/usr/local/lib/python3.7/dist-packages/statsmodels/tsa/stattools.py:1432: CollinearityWarning: y0 and y1 are (almost) perfectly colinear.Cointegration test is not reliable in this case.\n",
            "  CollinearityWarning)\n",
            "/usr/local/lib/python3.7/dist-packages/statsmodels/tsa/stattools.py:1432: CollinearityWarning: y0 and y1 are (almost) perfectly colinear.Cointegration test is not reliable in this case.\n",
            "  CollinearityWarning)\n",
            "/usr/local/lib/python3.7/dist-packages/statsmodels/tsa/stattools.py:1432: CollinearityWarning: y0 and y1 are (almost) perfectly colinear.Cointegration test is not reliable in this case.\n",
            "  CollinearityWarning)\n",
            "/usr/local/lib/python3.7/dist-packages/statsmodels/tsa/stattools.py:1432: CollinearityWarning: y0 and y1 are (almost) perfectly colinear.Cointegration test is not reliable in this case.\n",
            "  CollinearityWarning)\n",
            "/usr/local/lib/python3.7/dist-packages/statsmodels/tsa/stattools.py:1432: CollinearityWarning: y0 and y1 are (almost) perfectly colinear.Cointegration test is not reliable in this case.\n",
            "  CollinearityWarning)\n",
            "/usr/local/lib/python3.7/dist-packages/statsmodels/tsa/stattools.py:1432: CollinearityWarning: y0 and y1 are (almost) perfectly colinear.Cointegration test is not reliable in this case.\n",
            "  CollinearityWarning)\n",
            "/usr/local/lib/python3.7/dist-packages/statsmodels/tsa/stattools.py:1432: CollinearityWarning: y0 and y1 are (almost) perfectly colinear.Cointegration test is not reliable in this case.\n",
            "  CollinearityWarning)\n",
            "/usr/local/lib/python3.7/dist-packages/statsmodels/tsa/stattools.py:1432: CollinearityWarning: y0 and y1 are (almost) perfectly colinear.Cointegration test is not reliable in this case.\n",
            "  CollinearityWarning)\n",
            "/usr/local/lib/python3.7/dist-packages/statsmodels/tsa/stattools.py:1432: CollinearityWarning: y0 and y1 are (almost) perfectly colinear.Cointegration test is not reliable in this case.\n",
            "  CollinearityWarning)\n",
            "/usr/local/lib/python3.7/dist-packages/statsmodels/tsa/stattools.py:1432: CollinearityWarning: y0 and y1 are (almost) perfectly colinear.Cointegration test is not reliable in this case.\n",
            "  CollinearityWarning)\n",
            "/usr/local/lib/python3.7/dist-packages/statsmodels/tsa/stattools.py:1432: CollinearityWarning: y0 and y1 are (almost) perfectly colinear.Cointegration test is not reliable in this case.\n",
            "  CollinearityWarning)\n",
            "/usr/local/lib/python3.7/dist-packages/statsmodels/tsa/stattools.py:1432: CollinearityWarning: y0 and y1 are (almost) perfectly colinear.Cointegration test is not reliable in this case.\n",
            "  CollinearityWarning)\n",
            "/usr/local/lib/python3.7/dist-packages/statsmodels/tsa/stattools.py:1432: CollinearityWarning: y0 and y1 are (almost) perfectly colinear.Cointegration test is not reliable in this case.\n",
            "  CollinearityWarning)\n",
            "/usr/local/lib/python3.7/dist-packages/statsmodels/tsa/stattools.py:1432: CollinearityWarning: y0 and y1 are (almost) perfectly colinear.Cointegration test is not reliable in this case.\n",
            "  CollinearityWarning)\n",
            "/usr/local/lib/python3.7/dist-packages/statsmodels/tsa/stattools.py:1432: CollinearityWarning: y0 and y1 are (almost) perfectly colinear.Cointegration test is not reliable in this case.\n",
            "  CollinearityWarning)\n",
            "/usr/local/lib/python3.7/dist-packages/statsmodels/tsa/stattools.py:1432: CollinearityWarning: y0 and y1 are (almost) perfectly colinear.Cointegration test is not reliable in this case.\n",
            "  CollinearityWarning)\n",
            "/usr/local/lib/python3.7/dist-packages/statsmodels/tsa/stattools.py:1432: CollinearityWarning: y0 and y1 are (almost) perfectly colinear.Cointegration test is not reliable in this case.\n",
            "  CollinearityWarning)\n",
            "/usr/local/lib/python3.7/dist-packages/statsmodels/tsa/stattools.py:1432: CollinearityWarning: y0 and y1 are (almost) perfectly colinear.Cointegration test is not reliable in this case.\n",
            "  CollinearityWarning)\n",
            "/usr/local/lib/python3.7/dist-packages/statsmodels/tsa/stattools.py:1432: CollinearityWarning: y0 and y1 are (almost) perfectly colinear.Cointegration test is not reliable in this case.\n",
            "  CollinearityWarning)\n",
            "/usr/local/lib/python3.7/dist-packages/statsmodels/tsa/stattools.py:1432: CollinearityWarning: y0 and y1 are (almost) perfectly colinear.Cointegration test is not reliable in this case.\n",
            "  CollinearityWarning)\n",
            "/usr/local/lib/python3.7/dist-packages/statsmodels/tsa/stattools.py:1432: CollinearityWarning: y0 and y1 are (almost) perfectly colinear.Cointegration test is not reliable in this case.\n",
            "  CollinearityWarning)\n",
            "/usr/local/lib/python3.7/dist-packages/statsmodels/tsa/stattools.py:1432: CollinearityWarning: y0 and y1 are (almost) perfectly colinear.Cointegration test is not reliable in this case.\n",
            "  CollinearityWarning)\n",
            "/usr/local/lib/python3.7/dist-packages/statsmodels/tsa/stattools.py:1432: CollinearityWarning: y0 and y1 are (almost) perfectly colinear.Cointegration test is not reliable in this case.\n",
            "  CollinearityWarning)\n",
            "/usr/local/lib/python3.7/dist-packages/statsmodels/tsa/stattools.py:1432: CollinearityWarning: y0 and y1 are (almost) perfectly colinear.Cointegration test is not reliable in this case.\n",
            "  CollinearityWarning)\n",
            "/usr/local/lib/python3.7/dist-packages/statsmodels/tsa/stattools.py:1432: CollinearityWarning: y0 and y1 are (almost) perfectly colinear.Cointegration test is not reliable in this case.\n",
            "  CollinearityWarning)\n",
            "/usr/local/lib/python3.7/dist-packages/statsmodels/tsa/stattools.py:1432: CollinearityWarning: y0 and y1 are (almost) perfectly colinear.Cointegration test is not reliable in this case.\n",
            "  CollinearityWarning)\n",
            "/usr/local/lib/python3.7/dist-packages/statsmodels/tsa/stattools.py:1432: CollinearityWarning: y0 and y1 are (almost) perfectly colinear.Cointegration test is not reliable in this case.\n",
            "  CollinearityWarning)\n",
            "/usr/local/lib/python3.7/dist-packages/statsmodels/tsa/stattools.py:1432: CollinearityWarning: y0 and y1 are (almost) perfectly colinear.Cointegration test is not reliable in this case.\n",
            "  CollinearityWarning)\n",
            "/usr/local/lib/python3.7/dist-packages/statsmodels/tsa/stattools.py:1432: CollinearityWarning: y0 and y1 are (almost) perfectly colinear.Cointegration test is not reliable in this case.\n",
            "  CollinearityWarning)\n",
            "/usr/local/lib/python3.7/dist-packages/statsmodels/tsa/stattools.py:1432: CollinearityWarning: y0 and y1 are (almost) perfectly colinear.Cointegration test is not reliable in this case.\n",
            "  CollinearityWarning)\n",
            "/usr/local/lib/python3.7/dist-packages/statsmodels/tsa/stattools.py:1432: CollinearityWarning: y0 and y1 are (almost) perfectly colinear.Cointegration test is not reliable in this case.\n",
            "  CollinearityWarning)\n",
            "/usr/local/lib/python3.7/dist-packages/statsmodels/tsa/stattools.py:1432: CollinearityWarning: y0 and y1 are (almost) perfectly colinear.Cointegration test is not reliable in this case.\n",
            "  CollinearityWarning)\n",
            "/usr/local/lib/python3.7/dist-packages/statsmodels/tsa/stattools.py:1432: CollinearityWarning: y0 and y1 are (almost) perfectly colinear.Cointegration test is not reliable in this case.\n",
            "  CollinearityWarning)\n",
            "/usr/local/lib/python3.7/dist-packages/statsmodels/tsa/stattools.py:1432: CollinearityWarning: y0 and y1 are (almost) perfectly colinear.Cointegration test is not reliable in this case.\n",
            "  CollinearityWarning)\n",
            "/usr/local/lib/python3.7/dist-packages/statsmodels/tsa/stattools.py:1432: CollinearityWarning: y0 and y1 are (almost) perfectly colinear.Cointegration test is not reliable in this case.\n",
            "  CollinearityWarning)\n",
            "/usr/local/lib/python3.7/dist-packages/statsmodels/tsa/stattools.py:1432: CollinearityWarning: y0 and y1 are (almost) perfectly colinear.Cointegration test is not reliable in this case.\n",
            "  CollinearityWarning)\n"
          ],
          "name": "stderr"
        }
      ]
    },
    {
      "cell_type": "code",
      "metadata": {
        "id": "84268bf7",
        "outputId": "36814e97-47d2-410c-d4de-a5d747e3ec7e",
        "colab": {
          "base_uri": "https://localhost:8080/",
          "height": 225
        }
      },
      "source": [
        "from sklearn.manifold import TSNE\n",
        "import matplotlib.cm as cm\n",
        "\n",
        "stocks = np.unique(pairs)\n",
        "X_data = pd.DataFrame(index=X.index, data=X).T\n",
        "in_pairs_series = clustered_series.loc[stocks]\n",
        "stocks = list(np.unique(pairs))\n",
        "X_pairs = X_data.T.loc[stocks]\n",
        "X_pairs.head()"
      ],
      "id": "84268bf7",
      "execution_count": 60,
      "outputs": [
        {
          "output_type": "execute_result",
          "data": {
            "text/html": [
              "<div>\n",
              "<style scoped>\n",
              "    .dataframe tbody tr th:only-of-type {\n",
              "        vertical-align: middle;\n",
              "    }\n",
              "\n",
              "    .dataframe tbody tr th {\n",
              "        vertical-align: top;\n",
              "    }\n",
              "\n",
              "    .dataframe thead th {\n",
              "        text-align: right;\n",
              "    }\n",
              "</style>\n",
              "<table border=\"1\" class=\"dataframe\">\n",
              "  <thead>\n",
              "    <tr style=\"text-align: right;\">\n",
              "      <th></th>\n",
              "      <th>returns</th>\n",
              "      <th>volatility</th>\n",
              "    </tr>\n",
              "    <tr>\n",
              "      <th>ticker</th>\n",
              "      <th></th>\n",
              "      <th></th>\n",
              "    </tr>\n",
              "  </thead>\n",
              "  <tbody>\n",
              "    <tr>\n",
              "      <th>ADAUSDT</th>\n",
              "      <td>-0.115791</td>\n",
              "      <td>-0.122185</td>\n",
              "    </tr>\n",
              "    <tr>\n",
              "      <th>ALGOUSDT</th>\n",
              "      <td>-0.133158</td>\n",
              "      <td>-0.120097</td>\n",
              "    </tr>\n",
              "    <tr>\n",
              "      <th>ANKRUSDT</th>\n",
              "      <td>-0.109639</td>\n",
              "      <td>-0.118173</td>\n",
              "    </tr>\n",
              "    <tr>\n",
              "      <th>ATOMUSDT</th>\n",
              "      <td>-0.125578</td>\n",
              "      <td>-0.121094</td>\n",
              "    </tr>\n",
              "    <tr>\n",
              "      <th>BANDUSDT</th>\n",
              "      <td>-0.104729</td>\n",
              "      <td>-0.116463</td>\n",
              "    </tr>\n",
              "  </tbody>\n",
              "</table>\n",
              "</div>"
            ],
            "text/plain": [
              "           returns  volatility\n",
              "ticker                        \n",
              "ADAUSDT  -0.115791   -0.122185\n",
              "ALGOUSDT -0.133158   -0.120097\n",
              "ANKRUSDT -0.109639   -0.118173\n",
              "ATOMUSDT -0.125578   -0.121094\n",
              "BANDUSDT -0.104729   -0.116463"
            ]
          },
          "metadata": {
            "tags": []
          },
          "execution_count": 60
        }
      ]
    },
    {
      "cell_type": "code",
      "metadata": {
        "scrolled": true,
        "id": "2bd32f32"
      },
      "source": [
        "X_tsne = TSNE(learning_rate=30, perplexity=5, random_state=42, n_jobs=-1).fit_transform(X_pairs)\n",
        "#X_tsne"
      ],
      "id": "2bd32f32",
      "execution_count": 61,
      "outputs": []
    },
    {
      "cell_type": "code",
      "metadata": {
        "id": "921a207d",
        "outputId": "1e232630-c918-4df8-982b-66506eeb34f6",
        "colab": {
          "base_uri": "https://localhost:8080/",
          "height": 862
        }
      },
      "source": [
        "plt.figure(1, facecolor='white',figsize=(15,15))\n",
        "plt.clf()\n",
        "plt.axis('off')\n",
        "for pair in pairs:\n",
        "    ticker1 = pair[0]\n",
        "    loc1 = X_pairs.index.get_loc(pair[0])\n",
        "    x1, y1 = X_tsne[loc1, :]\n",
        "    ticker2 = pair[0]\n",
        "    loc2 = X_pairs.index.get_loc(pair[1])\n",
        "    x2, y2 = X_tsne[loc2, :]\n",
        "    plt.plot([x1, x2], [y1, y2], 'k-', alpha=0.3, c='b');\n",
        "    \n",
        "plt.scatter(X_tsne[:, 0], X_tsne[:, 1], s=215, alpha=0.8, c=in_pairs_series.values, cmap=cm.Paired)\n",
        "plt.title('TSNE Visualization of Pairs'); \n",
        "\n",
        "# Join pairs by x and y\n",
        "for x,y,name in zip(X_tsne[:,0],X_tsne[:,1],X_pairs.index):\n",
        "\n",
        "    label = name\n",
        "\n",
        "    plt.annotate(label,\n",
        "                 (x,y),\n",
        "                 textcoords=\"offset points\",\n",
        "                 xytext=(0,10),\n",
        "                 ha='center')\n",
        "    \n",
        "plt.show()"
      ],
      "id": "921a207d",
      "execution_count": 62,
      "outputs": [
        {
          "output_type": "display_data",
          "data": {
            "image/png": "[encoded data removed]",
            "text/plain": [
              "<Figure size 1080x1080 with 1 Axes>"
            ]
          },
          "metadata": {
            "tags": []
          }
        }
      ]
    },
    {
      "cell_type": "code",
      "metadata": {
        "id": "b19d7eff",
        "outputId": "b442d6eb-7c38-489b-95b0-d6d39a59151d",
        "colab": {
          "base_uri": "https://localhost:8080/"
        }
      },
      "source": [
        "pairs"
      ],
      "id": "b19d7eff",
      "execution_count": 63,
      "outputs": [
        {
          "output_type": "execute_result",
          "data": {
            "text/plain": [
              "[('ADAUSDT', 'ATOMUSDT'),\n",
              " ('ADAUSDT', 'BTTUSDT'),\n",
              " ('ADAUSDT', 'CELRUSDT'),\n",
              " ('ADAUSDT', 'COSUSDT'),\n",
              " ('ADAUSDT', 'ENJUSDT'),\n",
              " ('ADAUSDT', 'ETCUSDT'),\n",
              " ('ADAUSDT', 'ETHUSDT'),\n",
              " ('ADAUSDT', 'FETUSDT'),\n",
              " ('ADAUSDT', 'FUNUSDT'),\n",
              " ('ADAUSDT', 'GTOUSDT'),\n",
              " ('ADAUSDT', 'HOTUSDT'),\n",
              " ('ADAUSDT', 'ICXUSDT'),\n",
              " ('ADAUSDT', 'IOSTUSDT'),\n",
              " ('ADAUSDT', 'KAVAUSDT'),\n",
              " ('ADAUSDT', 'MITHUSDT'),\n",
              " ('ADAUSDT', 'NANOUSDT'),\n",
              " ('ADAUSDT', 'NEOUSDT'),\n",
              " ('ADAUSDT', 'OMGUSDT'),\n",
              " ('ADAUSDT', 'ONEUSDT'),\n",
              " ('ADAUSDT', 'PERLUSDT'),\n",
              " ('ADAUSDT', 'QTUMUSDT'),\n",
              " ('ADAUSDT', 'RVNUSDT'),\n",
              " ('ADAUSDT', 'STXUSDT'),\n",
              " ('ADAUSDT', 'TOMOUSDT'),\n",
              " ('ADAUSDT', 'WANUSDT'),\n",
              " ('ADAUSDT', 'WAVESUSDT'),\n",
              " ('ADAUSDT', 'WINUSDT'),\n",
              " ('ADAUSDT', 'XLMUSDT'),\n",
              " ('ADAUSDT', 'XRPUSDT'),\n",
              " ('ADAUSDT', 'XTZUSDT'),\n",
              " ('ADAUSDT', 'ZILUSDT'),\n",
              " ('ADAUSDT', 'ZRXUSDT'),\n",
              " ('ANKRUSDT', 'BANDUSDT'),\n",
              " ('ANKRUSDT', 'CHZUSDT'),\n",
              " ('ANKRUSDT', 'CVCUSDT'),\n",
              " ('ANKRUSDT', 'DENTUSDT'),\n",
              " ('ANKRUSDT', 'DOCKUSDT'),\n",
              " ('ANKRUSDT', 'DOGEUSDT'),\n",
              " ('ANKRUSDT', 'FTMUSDT'),\n",
              " ('ANKRUSDT', 'HBARUSDT'),\n",
              " ('ANKRUSDT', 'KEYUSDT'),\n",
              " ('ANKRUSDT', 'LINKUSDT'),\n",
              " ('ANKRUSDT', 'MATICUSDT'),\n",
              " ('ANKRUSDT', 'MFTUSDT'),\n",
              " ('ANKRUSDT', 'MTLUSDT'),\n",
              " ('ANKRUSDT', 'NKNUSDT'),\n",
              " ('ANKRUSDT', 'ONGUSDT'),\n",
              " ('ANKRUSDT', 'RENUSDT'),\n",
              " ('ANKRUSDT', 'TFUELUSDT'),\n",
              " ('ANKRUSDT', 'THETAUSDT'),\n",
              " ('ANKRUSDT', 'VETUSDT'),\n",
              " ('ALGOUSDT', 'BATUSDT'),\n",
              " ('ALGOUSDT', 'BEAMUSDT'),\n",
              " ('ALGOUSDT', 'BTCUSDT'),\n",
              " ('ALGOUSDT', 'DASHUSDT'),\n",
              " ('ALGOUSDT', 'DUSKUSDT'),\n",
              " ('ALGOUSDT', 'EOSUSDT'),\n",
              " ('ALGOUSDT', 'IOTAUSDT'),\n",
              " ('ALGOUSDT', 'LTCUSDT'),\n",
              " ('ALGOUSDT', 'NULSUSDT'),\n",
              " ('ALGOUSDT', 'ONTUSDT'),\n",
              " ('ALGOUSDT', 'PAXUSDT'),\n",
              " ('ALGOUSDT', 'TRXUSDT'),\n",
              " ('ALGOUSDT', 'TUSDUSDT'),\n",
              " ('ALGOUSDT', 'USDCUSDT'),\n",
              " ('ALGOUSDT', 'XMRUSDT'),\n",
              " ('ALGOUSDT', 'ZECUSDT')]"
            ]
          },
          "metadata": {
            "tags": []
          },
          "execution_count": 63
        }
      ]
    },
    {
      "cell_type": "code",
      "metadata": {
        "id": "32c07285"
      },
      "source": [
        ""
      ],
      "id": "32c07285",
      "execution_count": null,
      "outputs": []
    }
  ]
}